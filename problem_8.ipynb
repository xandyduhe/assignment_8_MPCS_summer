{
 "cells": [
  {
   "cell_type": "markdown",
   "metadata": {},
   "source": [
    "# Problem 8 - Plotting in Jupyter Notebooks\n",
    "----\n",
    "In a [Google Colaboratory Notebook](https://colab.research.google.com/notebooks/intro.ipynb), write a simple program to generate 100 random `x` and `y` coordinates.  Plot them using the `matplotlib` graphical plotting package.  The x-axis should be labeled \"X\" and the y-axis should be labeled \"Y\".\n",
    "\n",
    "The plot should look similar to the following image:\n",
    "\n",
    "![](images/plot_8.png)\n"
   ]
  },
  {
   "cell_type": "markdown",
   "metadata": {},
   "source": [
    "## Share the notebook publicy and provice the URL below:"
   ]
  },
  {
   "cell_type": "code",
   "execution_count": 1,
   "metadata": {},
   "outputs": [],
   "source": [
    "# URL here\n",
    "https://colab.research.google.com/drive/1SRnMoVvQ5IWQ2b9T43Y2BrOydLBEVb5g?usp=sharing"
   ]
  }
 ],
 "metadata": {
  "kernelspec": {
   "display_name": "Python 3.7.5 64-bit ('anaconda3': virtualenv)",
   "name": "python37564bitanaconda3virtualenv9f4dfbb167384045848833e25d52f015"
  },
  "language_info": {
   "codemirror_mode": {
    "name": "ipython",
    "version": 3
   },
   "file_extension": ".py",
   "mimetype": "text/x-python",
   "name": "python",
   "nbconvert_exporter": "python",
   "pygments_lexer": "ipython3",
   "version": "3.7.5-final"
  },
  "orig_nbformat": 2
 },
 "nbformat": 4,
 "nbformat_minor": 2
}
