{
 "cells": [
  {
   "cell_type": "markdown",
   "metadata": {},
   "source": [
    "# Problem 2 - Big-O Notation of Human Algorithms\n",
    "----\n",
    "What is the time complexity, in big-O notation, of the following algorithms?\n",
    "  * Selecting the next best move in a game of tic tac toe.\n",
    "  * Reading a book, where `n` is the number of pages.\n",
    "  * Compiling a telephone or address book from a list of names/numbers.\n",
    "  * Determining if a number is odd or even.\n",
    "  * Finding a word in the dictionary.\n",
    "  * Checking if you have put all the items on your packing list in your suitcase."
   ]
  },
  {
   "cell_type": "markdown",
   "metadata": {},
   "source": [
    "Answer here..."
   ]
  },
  {
   "cell_type": "markdown",
   "metadata": {},
   "source": [
    "1. Selecting the next best move in a game of tic tac toe.\n",
    "O(n)\n",
    "\n",
    "2. Reading a book, where `n` is the number of pages.\n",
    "O(n)\n",
    "\n",
    "3. Compiling a telephone or address book from a list of names/numbers.\n",
    "O(n log n)\n",
    "\n",
    "    Assume the list has n elements. Each element n has 2 tasks, reading the name/number, copying it to the new book. \n",
    "    2n = O(n)\n",
    "\n",
    "    If there is Sorting involved then, as learned in lecture similar to binary search, Merge sort comparison based soring is O(nlog n)\n",
    "        Source: (https://stackoverflow.com/questions/14434490/what-is-the-complexity-of-the-sorted-function)\n",
    "    Merge Sort: split data into halves and merges sorted halves\n",
    "    1. split (2 elements)                           O(logn)\n",
    "    2. recursivley apply merg sort to each half     O(n)\n",
    "                \n",
    "                152634   \n",
    "                  \n",
    "        split   152 634     \n",
    "        split   15 2 63 4   \n",
    "        sort    15 2 36 4  \n",
    "        merge   152364    \n",
    "        split   1 52 3 64 \n",
    "        sort    1 25 3 46\n",
    "        merge   125346 \n",
    "        split   1 2 53 4 6 \n",
    "        sort    1 2 35 4 6\n",
    "        merge   123546\n",
    "        split   1 2 3 54 6\n",
    "        sort    1 2 3 45 6\n",
    "        merge   123456  \n",
    "\n",
    "    3. merge \n",
    "        123456\n",
    "\n",
    "O(n) + O(n logn) = O(n log n)\n",
    "\n",
    "\n",
    "4.  Determining if a number is odd or even.\n",
    "O(1)\n",
    "\n",
    "    If a number is even then the number, n % 2 == 0. Constant no matter the n. \n",
    "\n",
    "\n",
    "5. Finding a word in the dictionary.\n",
    "O(log n)\n",
    "\n",
    "Dictioaries are sorted. Could use Binary search, where N is the number of words. \n",
    "\n",
    "\n",
    "6. Checking if you have put all the items on your packing list in your suitcase.2.\n",
    "O(n)\n",
    "\n",
    "    Each item requires \n",
    "    1. checking the list\n",
    "    2. checking the suitcase \n",
    "\n",
    "    if there are n items in the list and at most n items in the suitcase, called s, then we have n + s tasks. \n",
    "\n",
    "    O(n + s), where s leq n \n",
    "\n"
   ]
  }
 ],
 "metadata": {
  "kernelspec": {
   "display_name": "Python 3.7.5 64-bit ('anaconda3': virtualenv)",
   "name": "python37564bitanaconda3virtualenv9f4dfbb167384045848833e25d52f015"
  },
  "language_info": {
   "codemirror_mode": {
    "name": "ipython",
    "version": 3
   },
   "file_extension": ".py",
   "mimetype": "text/x-python",
   "name": "python",
   "nbconvert_exporter": "python",
   "pygments_lexer": "ipython3",
   "version": "3.7.5-final"
  },
  "orig_nbformat": 2
 },
 "nbformat": 4,
 "nbformat_minor": 2
}
