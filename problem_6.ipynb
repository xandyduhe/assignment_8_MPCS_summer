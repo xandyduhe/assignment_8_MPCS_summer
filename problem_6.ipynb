{
 "cells": [
  {
   "cell_type": "markdown",
   "metadata": {},
   "source": [
    "# Problem 6 - Pickle is a 14 Point Word\n",
    "----\n",
    "Create a pickled list of all the [allowed Scrabble words](assets/scrabble_list.txt). \n",
    "\n",
    "Using your Scrabble `Word` classes created in previous assignment, create a `Word` object for each allowed word in the `scrabble_list.txt` file. Add each instance of you `Word` object to a list and then pickle that list to a file named `scrabble_list.pickle`.\n",
    "\n",
    "One of the advantages of Pickling is that the binary data format is supposed to be faster to read in and process. Compare the time to read in the text file and convert to `Word` objects versus reading in the pickled file. \n",
    "\n"
   ]
  },
  {
   "cell_type": "code",
   "execution_count": 19,
   "metadata": {},
   "outputs": [
    {
     "name": "stdout",
     "output_type": "stream",
     "text": [
      "Pickle read in time: 0.02892136573791504\n",
      "Text read in file time: 0.047473907470703125\n"
     ]
    }
   ],
   "source": [
    "\n",
    "#from scrabble_classes import Word\n",
    "import pickle\n",
    "import os \n",
    "import time\n",
    "\n",
    "def open_scrabble_words(file):\n",
    "    ''' Opens file containing scrabble words and crates list of words'''\n",
    "    try: \n",
    "        with open(file, 'r') as file:\n",
    "            words = []\n",
    "            # write each line as an index in a llist \n",
    "            for line in file:\n",
    "                line = line.strip().lower()\n",
    "                words.append(line)\n",
    "        return(words)\n",
    "    except:\n",
    "        print(\"Could not open file\")\n",
    "        return False\n",
    "    \n",
    "class Word:   \n",
    "    \"\"\"Attributes:    \n",
    "            - characters: str of letter charecters \n",
    "            - length: int represening length of charecters string \n",
    "            - score: int representing score of letters in charecters \n",
    "        \"\"\"   \n",
    "    def __init__(self, character):\n",
    "        self.character = character\n",
    "        self.length = len(character)\n",
    "        self.score = self.calculate_score()\n",
    "\n",
    "    def calculate_score(self):\n",
    "        ''' Calculate score per word based on letters in tile_score dictionary'''\n",
    "\n",
    "        # scores for each letter charecter \n",
    "        tile_score = {\"a\": 1, \"c\": 3, \"b\": 3, \"e\": 1, \"d\": 2, \"g\": 2,\n",
    "            \"f\": 4, \"i\": 1, \"h\": 4, \"k\": 5, \"j\": 8, \"m\": 3,\n",
    "            \"l\": 1, \"o\": 1, \"n\": 1, \"q\": 10, \"p\": 3, \"s\": 1,\n",
    "            \"r\": 1, \"u\": 1, \"t\": 1, \"w\": 4, \"v\": 4, \"y\": 4,\n",
    "            \"x\": 8, \"z\": 10}\n",
    "        score = 0\n",
    "\n",
    "        try:\n",
    "            # calculates total score of charecters  \n",
    "            for letter in self.character:\n",
    "                score += tile_score[letter]\n",
    "            return score \n",
    "        \n",
    "        except:\n",
    "            print('Could not produce word score')\n",
    "            return False\n",
    "    \n",
    "start_time = time.time()\n",
    "s_words = (open_scrabble_words(f'{os.getcwd()}\\\\scrabble_list.txt'))\n",
    "end_time = time.time()\n",
    "text_file_time = end_time - start_time\n",
    "\n",
    "pickled_word_list = []\n",
    "for word in s_words:\n",
    "\n",
    "    word_pickle = f'{word} {Word(word).calculate_score()}'\n",
    "    pickled_word_list.append(word_pickle)\n",
    "\n",
    "with open(f'scrabble_list.pickle', 'wb') as f:\n",
    "    pickle.dump(pickled_word_list, f)\n",
    "\n",
    "start_time = time.time()\n",
    "with open('scrabble_list.pickle', 'rb') as f:\n",
    "    pickled_word_list = pickle.load(f)\n",
    "end_time = time.time()\n",
    "pickle_file_time = end_time - start_time\n",
    "\n",
    "print(f'Pickle read in time: {pickle_file_time}\\nText read in file time: {text_file_time}')\n",
    "\n"
   ]
  },
  {
   "cell_type": "markdown",
   "metadata": {},
   "source": [
    "For this data set, does this seem to be accurate? Do you think that a larger word list would change your answer?"
   ]
  },
  {
   "cell_type": "markdown",
   "metadata": {},
   "source": [
    "Yes the assumption is true. I dont think a larger list would change the relative rate for reading text and pickle. "
   ]
  }
 ],
 "metadata": {
  "kernelspec": {
   "display_name": "Python 3",
   "language": "python",
   "name": "python3"
  },
  "language_info": {
   "codemirror_mode": {
    "name": "ipython",
    "version": 3
   },
   "file_extension": ".py",
   "mimetype": "text/x-python",
   "name": "python",
   "nbconvert_exporter": "python",
   "pygments_lexer": "ipython3",
   "version": "3.12.1"
  },
  "orig_nbformat": 2
 },
 "nbformat": 4,
 "nbformat_minor": 2
}
