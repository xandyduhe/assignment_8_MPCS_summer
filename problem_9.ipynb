{
 "cells": [
  {
   "cell_type": "markdown",
   "metadata": {},
   "source": [
    "# Problem 9 - Scrabble Word Length Bias\n",
    "----\n",
    "In a previous assignment you created a Scrabble word generator that takes a rack of letters and shows all the possible words that can be created. What is the efficiency, in big-O notation, of your solution?\n"
   ]
  },
  {
   "cell_type": "markdown",
   "metadata": {},
   "source": [
    "Becasue I used permutation which have an equation of n!/(n-k)! then the big O-notation is O(n!), factorial. "
   ]
  },
  {
   "cell_type": "markdown",
   "metadata": {},
   "source": [
    "Write a program that randomly selects 7 letters and computes the time it takes to compute all the valid words for each possible word length. Run your program 10 times and plot out the results for each random set of letters.\n",
    "\n",
    "The plots should look similar to the following:\n",
    "\n",
    "![](images/plot_9.png)"
   ]
  },
  {
   "cell_type": "code",
   "execution_count": 1,
   "metadata": {},
   "outputs": [
    {
     "ename": "ModuleNotFoundError",
     "evalue": "No module named 'matplotlib'",
     "output_type": "error",
     "traceback": [
      "\u001b[1;31m---------------------------------------------------------------------------\u001b[0m",
      "\u001b[1;31mModuleNotFoundError\u001b[0m                       Traceback (most recent call last)",
      "Cell \u001b[1;32mIn[1], line 7\u001b[0m\n\u001b[0;32m      5\u001b[0m \u001b[38;5;28;01mimport\u001b[39;00m \u001b[38;5;21;01mtime\u001b[39;00m\n\u001b[0;32m      6\u001b[0m \u001b[38;5;28;01mimport\u001b[39;00m \u001b[38;5;21;01mrandom\u001b[39;00m\n\u001b[1;32m----> 7\u001b[0m \u001b[38;5;28;01mimport\u001b[39;00m \u001b[38;5;21;01mmatplotlib\u001b[39;00m\u001b[38;5;21;01m.\u001b[39;00m\u001b[38;5;21;01mpyplot\u001b[39;00m \u001b[38;5;28;01mas\u001b[39;00m \u001b[38;5;21;01mplt\u001b[39;00m\n\u001b[0;32m      9\u001b[0m \u001b[38;5;28;01mdef\u001b[39;00m \u001b[38;5;21mopen_scrabble_words\u001b[39m(file):\n\u001b[0;32m     10\u001b[0m \u001b[38;5;250m    \u001b[39m\u001b[38;5;124;03m''' Opens file containing scrabble words and crates list of words'''\u001b[39;00m\n",
      "\u001b[1;31mModuleNotFoundError\u001b[0m: No module named 'matplotlib'"
     ]
    }
   ],
   "source": [
    "import re\n",
    "import itertools\n",
    "from itertools import permutations\n",
    "import os\n",
    "import time\n",
    "import random\n",
    "import matplotlib.pyplot as plt\n",
    "\n",
    "def open_scrabble_words(file):\n",
    "    ''' Opens file containing scrabble words and crates list of words'''\n",
    "    try: \n",
    "        with open(file, 'r') as file:\n",
    "            words = []\n",
    "            # write each line as an index in a llist \n",
    "            for line in file:\n",
    "                line = line.strip().lower()\n",
    "                words.append(line)\n",
    "        return(words)\n",
    "    except:\n",
    "        print(\"Could not open file\")\n",
    "        return False\n",
    "\n",
    "class Word:   \n",
    "    \"\"\"Attributes:    \n",
    "            - characters: str of letter characters \n",
    "            - length: int representing length of characters string \n",
    "            - score: int representing score of letters in characters \n",
    "        \"\"\"   \n",
    "    def __init__(self, character):\n",
    "        self.character = character\n",
    "        self.length = len(character)\n",
    "        self.score = self.calculate_score()\n",
    "\n",
    "    def calculate_score(self):\n",
    "        ''' Calculate score per word based on letters in tile_score dictionary'''\n",
    "\n",
    "        # scores for each letter character \n",
    "        tile_score = {\"a\": 1, \"c\": 3, \"b\": 3, \"e\": 1, \"d\": 2, \"g\": 2,\n",
    "            \"f\": 4, \"i\": 1, \"h\": 4, \"k\": 5, \"j\": 8, \"m\": 3,\n",
    "            \"l\": 1, \"o\": 1, \"n\": 1, \"q\": 10, \"p\": 3, \"s\": 1,\n",
    "            \"r\": 1, \"u\": 1, \"t\": 1, \"w\": 4, \"v\": 4, \"y\": 4,\n",
    "            \"x\": 8, \"z\": 10}\n",
    "        score = 0\n",
    "\n",
    "        try:\n",
    "            # calculates total score of characters  \n",
    "            for letter in self.character:\n",
    "                score += tile_score[letter]\n",
    "            return score \n",
    "        \n",
    "        except:\n",
    "            print('Could not produce word score')\n",
    "            return False\n",
    "\n",
    "class WordGenerator:\n",
    "    '''\n",
    "    Attributes:\n",
    "    - scrabble words: list of str containing valid scrabble words \n",
    "    - tiles: str of 7 letter characters representing scrabble tiles\n",
    "    '''\n",
    "    def __init__(self, scrabble_words):\n",
    "        self.scrabble_words = scrabble_words\n",
    "\n",
    "    def tile_combinations(self, tiles):\n",
    "        '''finds possible scrabble words from entered tiles \n",
    "        '''\n",
    "        # empty list of valid words from tiles  \n",
    "        possible_words = []\n",
    "        try:\n",
    "            # generate list of possible scrabble words from tiles \n",
    "            for length in range(1, len(tiles) + 1): # word from 2 to 8 letters \n",
    "                for perm in permutations(tiles, length):\n",
    "                    word = ''.join(perm)\n",
    "\n",
    "                    if word in self.scrabble_words:\n",
    "                        possible_words.append(word)\n",
    "            return possible_words\n",
    "        except:\n",
    "            print('Could not find possible combinations')\n",
    "            return False \n",
    "\n",
    "def generate_random_tiles():\n",
    "    '''Generate a string of 7 random letters.'''\n",
    "\n",
    "    return ''.join(random.choices('abcdefghijklmnopqrstuvwxyz', k=7))\n",
    "\n",
    "def main():\n",
    "\n",
    "    # Load scrabble words\n",
    "    s_words = open_scrabble_words(f'{os.getcwd()}/scrabble_list.txt')\n",
    "    if not s_words:\n",
    "        return\n",
    "\n",
    "    # empty time list \n",
    "    times = []\n",
    "\n",
    "    for _ in range(10):\n",
    "        # generate tiles\n",
    "        tiles = generate_random_tiles()\n",
    "        print(f'Random tiles: {tiles}')\n",
    "\n",
    "        # measure time to generate words\n",
    "        start_time = time.time()\n",
    "        tile_word_combinations = WordGenerator(s_words).tile_combinations(tiles)\n",
    "        end_time = time.time()\n",
    "        computation_time = end_time - start_time\n",
    "        times.append(computation_time)\n",
    "        \n",
    "        print(f'Time to compute valid words: {computation_time:.4f} seconds')\n",
    "\n",
    "    # Plot \n",
    "    plt.plot(range(1, 11), times, marker='o')\n",
    "    plt.xlabel('Trial Number')\n",
    "    plt.ylabel('Time (seconds)')\n",
    "    plt.title('Time to Compute Valid Words for Random Tiles (10 Trials)')\n",
    "    plt.grid(True)\n",
    "    plt.show()\n",
    "\n",
    "if __name__ == '__main__':\n",
    "    main()"
   ]
  },
  {
   "cell_type": "markdown",
   "metadata": {},
   "source": [
    "Do the specific letters that are in your rack affect the efficiency of your solution? Do they impact the actual runtime? How can can you design an experiment to verify this? Run your experiment and provide evidence to support your claim."
   ]
  },
  {
   "cell_type": "markdown",
   "metadata": {},
   "source": [
    "To design an experement like this, you would have to separate letters into groups and run the program on those groups then compair the results. "
   ]
  }
 ],
 "metadata": {
  "kernelspec": {
   "display_name": "Python 3",
   "language": "python",
   "name": "python3"
  },
  "language_info": {
   "codemirror_mode": {
    "name": "ipython",
    "version": 3
   },
   "file_extension": ".py",
   "mimetype": "text/x-python",
   "name": "python",
   "nbconvert_exporter": "python",
   "pygments_lexer": "ipython3",
   "version": "3.12.1"
  },
  "orig_nbformat": 2
 },
 "nbformat": 4,
 "nbformat_minor": 2
}
