{
 "cells": [
  {
   "cell_type": "markdown",
   "metadata": {},
   "source": [
    "# Problem 10 - Palindrome Do-Over\n",
    "----\n",
    "In  Assignment 2, Problem 6, you were asked you to write an algorithm for identifying if a given word was a palindrome.\n"
   ]
  },
  {
   "cell_type": "code",
   "execution_count": 1,
   "metadata": {},
   "outputs": [
    {
     "name": "stdout",
     "output_type": "stream",
     "text": [
      "This is a palindrome.\n"
     ]
    }
   ],
   "source": [
    "# Copy your original implementation here\n",
    "# Week 2\n",
    "# Exercise 6 \n",
    "# prompts a user to enter a word or phrase and test if it is a palindrome\n",
    "#\n",
    "# Xandy Duhe \n",
    "\n",
    "def palindrome(input_str):\n",
    "\n",
    "    # Remove spaces and convert to lowercase\n",
    "    normalized_str = input_str.replace(\" \", \"\").lower()\n",
    "    \n",
    "    # Check if the string is equal to its reverse\n",
    "    if normalized_str == normalized_str[::-1]:\n",
    "        return True\n",
    "    else:\n",
    "        return False\n",
    "\n",
    "\n",
    "# user input \n",
    "user_input = input(\"Enter a word or phrase: \")\n",
    "\n",
    "# check if palindrome\n",
    "if palindrome(user_input):\n",
    "    print(\"This is a palindrome.\")\n",
    "else:\n",
    "    print(\"This is not a palindrome.\")\n",
    "        \n",
    "\n"
   ]
  },
  {
   "cell_type": "code",
   "execution_count": null,
   "metadata": {},
   "outputs": [],
   "source": [
    "# Example running original"
   ]
  },
  {
   "cell_type": "markdown",
   "metadata": {},
   "source": [
    "What is the Big-O time complexity of your original solution?"
   ]
  },
  {
   "cell_type": "markdown",
   "metadata": {},
   "source": [
    "O(n)\n",
    "\n",
    "1. scan the unput n times to replace space where n is the legnth of the input = O(n)\n",
    "2. scannig to lower charecter n times = O(n)\n",
    "3. Create revers copy of input = O(n)\n",
    "4. compare reverse to original = O(n)"
   ]
  },
  {
   "cell_type": "markdown",
   "metadata": {},
   "source": [
    "Use all of your newly acquired computational thinking practices and skills, write a solution that is more efficient than your original solution (if possible)."
   ]
  },
  {
   "cell_type": "markdown",
   "metadata": {},
   "source": [
    "I dont think I can make it more efficient. "
   ]
  },
  {
   "cell_type": "code",
   "execution_count": 2,
   "metadata": {},
   "outputs": [
    {
     "name": "stdout",
     "output_type": "stream",
     "text": [
      "This is a palindrome.\n"
     ]
    }
   ],
   "source": [
    "# New implmentation\n",
    "def palindrome(input_str):\n",
    "\n",
    "    # Remove spaces and convert to lowercase\n",
    "    normalized_str = input_str.replace(\" \", \"\").lower()\n",
    "    \n",
    "    # Check if the string is equal to its reverse\n",
    "    if normalized_str == normalized_str[::-1]:\n",
    "        return True\n",
    "    else:\n",
    "        return False\n",
    "\n",
    "\n",
    "# user input \n",
    "user_input = input(\"Enter a word or phrase: \")\n",
    "\n",
    "# check if palindrome\n",
    "if palindrome(user_input):\n",
    "    print(\"This is a palindrome.\")\n",
    "else:\n",
    "    print(\"This is not a palindrome.\")\n",
    "        "
   ]
  },
  {
   "cell_type": "code",
   "execution_count": 2,
   "metadata": {},
   "outputs": [],
   "source": [
    "# Example running new"
   ]
  },
  {
   "cell_type": "markdown",
   "metadata": {},
   "source": [
    "What is the Big-O time complexity of your new solution?"
   ]
  },
  {
   "cell_type": "code",
   "execution_count": null,
   "metadata": {},
   "outputs": [],
   "source": [
    "O(n)"
   ]
  }
 ],
 "metadata": {
  "kernelspec": {
   "display_name": "Python 3",
   "language": "python",
   "name": "python3"
  },
  "language_info": {
   "codemirror_mode": {
    "name": "ipython",
    "version": 3
   },
   "file_extension": ".py",
   "mimetype": "text/x-python",
   "name": "python",
   "nbconvert_exporter": "python",
   "pygments_lexer": "ipython3",
   "version": "3.12.1"
  },
  "orig_nbformat": 2
 },
 "nbformat": 4,
 "nbformat_minor": 2
}
