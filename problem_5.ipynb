{
 "cells": [
  {
   "cell_type": "markdown",
   "metadata": {},
   "source": [
    "# Problem 5\n",
    "----"
   ]
  },
  {
   "cell_type": "markdown",
   "metadata": {},
   "source": [
    "## Part A\n",
    "Implement the Euclidian algorithm for getting the greatest common divisor (GCD) of two numbers by using _repeated subtractions_. \n",
    "\n",
    "The algorithm starts with two numbers and subtracts the smallest one from the other one until one of them becomes zero, the other one is the GCD of the original number. \n",
    "\n",
    "Algorithm Example:\n",
    "\n",
    "```\n",
    "10 2\n",
    "8 2\n",
    "6 2\n",
    "4 2\n",
    "2 2\n",
    "2 0 --> 2 is the greatest common divisor of 10 and 2\n",
    "\n",
    "9 6\n",
    "3 6\n",
    "3 3\n",
    "3 0 --> 3 is the greatest common divisor of 9 and 6\n",
    "\n",
    "35 49\n",
    "35 14\n",
    "21 14\n",
    "7  14\n",
    "7  7\n",
    "7  0 --> 7 is the greatest common divisor of 35 and 49\n",
    "```\n",
    "\n",
    "Write a function that takes 2 integer parameters and and returns their greatest common divisor.  You may implement it however you choose, but solving it recursively may be a more _elegant_ solution."
   ]
  },
  {
   "cell_type": "code",
   "execution_count": 9,
   "metadata": {},
   "outputs": [],
   "source": [
    "### Your code here\n",
    "def gcd_repeated_subtraction(a, b):\n",
    "    # already rediced \n",
    "    if a == 0:\n",
    "        return b\n",
    "    if b == 0:\n",
    "        return a\n",
    "    \n",
    "    # recursivly subtract the smaller num from the larger num \n",
    "    # (larger-smaller, smaller)\n",
    "    if a > b: # a largr \n",
    "        return gcd_repeated_subtraction(a-b, b)\n",
    "    else:  # b larger \n",
    "        return gcd_repeated_subtraction(a, b-a)\n"
   ]
  },
  {
   "cell_type": "markdown",
   "metadata": {},
   "source": [
    "To test your code in this notebook, ensure that your code should be able  to pass the following assertions.\n",
    "```\n",
    "\n",
    "```"
   ]
  },
  {
   "cell_type": "code",
   "execution_count": 10,
   "metadata": {},
   "outputs": [],
   "source": [
    "assert gcd_repeated_subtraction(35, 49) == 7\n",
    "assert gcd_repeated_subtraction(5,0) == 5\n",
    "assert gcd_repeated_subtraction(10, 2) == 2\n",
    "assert gcd_repeated_subtraction(9, 6) == 3\n",
    "assert gcd_repeated_subtraction(39, 40) == 1\n",
    "# https://math.stackexchange.com/questions/495119/what-is-gcd0-0    \n",
    "assert gcd_repeated_subtraction(0,0) == 0"
   ]
  },
  {
   "cell_type": "markdown",
   "metadata": {},
   "source": [
    "## Part B\n",
    "Use a [custom error class](https://towardsdatascience.com/how-to-define-custom-exception-classes-in-python-bfa346629bca) to ensure that your function will only accept `int` as arguments. The following provides a bare bones working example of a custom error class. You should modify it to match your implemenation."
   ]
  },
  {
   "cell_type": "code",
   "execution_count": 11,
   "metadata": {},
   "outputs": [],
   "source": [
    "class IntegerValueError(Exception):\n",
    "    \"\"\"Exception raised for type errors in the argument\"\"\"\n",
    "\n",
    "    def __init__(self, message):\n",
    "        self.message = message\n",
    "  \n",
    "    def __str__(self):\n",
    "        if self.message:\n",
    "            return 'IntegerValueError, {0} '.format(self.message)\n"
   ]
  },
  {
   "cell_type": "markdown",
   "metadata": {},
   "source": [
    "The following provides a template for using your custom class."
   ]
  },
  {
   "cell_type": "code",
   "execution_count": 12,
   "metadata": {},
   "outputs": [],
   "source": [
    "def gcd_repeated_subtraction(x, y):\n",
    "  \"\"\"Find GCD using repeated subtraction\"\"\"\n",
    "\n",
    "  if not isinstance(x, int) or not isinstance(y, int):\n",
    "      raise IntegerValueError(\"Only integers are allowed\")\n",
    "      \n",
    "  #\n",
    "  # Your work here\n",
    "  x, y = abs(x), abs(y)\n",
    "\n",
    "  # not zero \n",
    "  while y != 0:\n",
    "    if x > y: # x is larger \n",
    "      x -= y\n",
    "    else:     # y is larger \n",
    "      y -= x\n",
    "\n",
    "  return x"
   ]
  },
  {
   "cell_type": "markdown",
   "metadata": {},
   "source": [
    "Incorporate your error handling to implement a *robust* solution to the Euclidian algorithm for getting the greatest common divisor"
   ]
  },
  {
   "cell_type": "code",
   "execution_count": 13,
   "metadata": {},
   "outputs": [
    {
     "name": "stdout",
     "output_type": "stream",
     "text": [
      "IntegerValueError, Only integers are allowed \n"
     ]
    }
   ],
   "source": [
    "# Use the following assertions to verify your code works correctly. Use any additional tests that are necessary to ensure that your code is _robust_.\n",
    "\n",
    "try:\n",
    "    gcd_repeated_subtraction(35, 49.1)\n",
    "    \n",
    "except IntegerValueError as error:\n",
    "    print(error)\n"
   ]
  },
  {
   "cell_type": "code",
   "execution_count": 25,
   "metadata": {},
   "outputs": [
    {
     "data": {
      "text/plain": [
       "7"
      ]
     },
     "execution_count": 25,
     "metadata": {},
     "output_type": "execute_result"
    }
   ],
   "source": []
  }
 ],
 "metadata": {
  "kernelspec": {
   "display_name": "Python 3",
   "language": "python",
   "name": "python3"
  },
  "language_info": {
   "codemirror_mode": {
    "name": "ipython",
    "version": 3
   },
   "file_extension": ".py",
   "mimetype": "text/x-python",
   "name": "python",
   "nbconvert_exporter": "python",
   "pygments_lexer": "ipython3",
   "version": "3.12.1"
  },
  "orig_nbformat": 2
 },
 "nbformat": 4,
 "nbformat_minor": 2
}
