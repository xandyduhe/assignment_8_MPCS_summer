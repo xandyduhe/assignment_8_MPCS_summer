{
 "cells": [
  {
   "cell_type": "markdown",
   "metadata": {},
   "source": [
    "# Problem 7 - Timing Jupyter Notebooks\n",
    "----\n",
    "\n",
    "Review the Jupyter Notebook materials as needed.  [This](https://medium.com/codingthesmartway-com-blog/getting-started-with-jupyter-notebook-for-python-4e7082bd5d46) is a good one to start with if you are completely new to Jupyter Notebooks.\n",
    "\n",
    "Implement an object oriented countdown timer using a `context manager` inside a Notebook.  Prompt the user for input of a time (in seconds), print out the countdown and then conclude with \"BLASTOFF!\".\n",
    "\n",
    "Follow the exammple below: \n",
    "\n",
    "```\n",
    "> Enter the time to countdown: 5\n",
    "5\n",
    "4\n",
    "3\n",
    "2\n",
    "1\n",
    "BLASTOFF!\n",
    "```\n",
    "\n",
    "Note that taking user input in a Jupyter Notebook is different than from the command line."
   ]
  },
  {
   "cell_type": "code",
   "execution_count": 1,
   "metadata": {},
   "outputs": [
    {
     "name": "stdout",
     "output_type": "stream",
     "text": [
      "7\n",
      "6\n",
      "5\n",
      "4\n",
      "3\n",
      "2\n",
      "1\n",
      "BLASTOFF!\n"
     ]
    }
   ],
   "source": [
    "import time\n",
    "\n",
    "class Countdown:\n",
    "    '''Counts down from integer seconds \n",
    "    Attributes: \n",
    "    seconds: integer respresenting the number of seconds  '''\n",
    "    \n",
    "    def __init__(self, seconds):\n",
    "        self.seconds = seconds\n",
    "\n",
    "    # timer using sleep \n",
    "    def start(self):\n",
    "        # start: self.seconds, stop: 0, step: -1 \n",
    "        for i in range(self.seconds, 0, -1):\n",
    "            print(i)\n",
    "            time.sleep(1)\n",
    "        print(\"BLASTOFF!\")\n",
    "\n",
    "class TimerContextManager:\n",
    "    '''Contect manager for timer'''\n",
    "\n",
    "    def __init__(self, timer):\n",
    "        self.timer = timer\n",
    "\n",
    "    def __enter__(self):\n",
    "        return self.timer\n",
    "\n",
    "    def __exit__(self, exc_type, exc_value, traceback):\n",
    "        pass\n",
    "\n",
    "\n",
    "# input\n",
    "countdown_seconds = int(input(\"Enter the time to countdown: \"))\n",
    "\n",
    "# countdown timer object\n",
    "countdown_timer = Countdown(countdown_seconds)\n",
    "\n",
    "# Use context manager to start the timer\n",
    "with TimerContextManager(countdown_timer) as timer:\n",
    "    timer.start()\n"
   ]
  }
 ],
 "metadata": {
  "kernelspec": {
   "display_name": "Python 3",
   "language": "python",
   "name": "python3"
  },
  "language_info": {
   "codemirror_mode": {
    "name": "ipython",
    "version": 3
   },
   "file_extension": ".py",
   "mimetype": "text/x-python",
   "name": "python",
   "nbconvert_exporter": "python",
   "pygments_lexer": "ipython3",
   "version": "3.12.1"
  },
  "orig_nbformat": 2
 },
 "nbformat": 4,
 "nbformat_minor": 2
}
