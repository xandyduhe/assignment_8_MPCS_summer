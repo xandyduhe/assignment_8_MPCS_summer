{
 "cells": [
  {
   "cell_type": "markdown",
   "metadata": {},
   "source": [
    "\n",
    "# Problem 11 - Anagrams\n",
    "----\n",
    "An anagram of a word is when a second is simply a rearrangement of the first. For example, 'heart' and 'earth' are anagrams. The strings 'python' and 'typhon' are anagrams as well. \n",
    "\n",
    "Write a function that determines if two strings are anagrams. If they are return `True` else return `False`.\n",
    "\n",
    "As discussed, there are many different approaches to accomplishing this task. In order to receive full-credit, you solution should be `O(n)`."
   ]
  },
  {
   "cell_type": "code",
   "execution_count": 1,
   "metadata": {},
   "outputs": [],
   "source": [
    "def anagram(word1, word2):\n",
    "   # Your implementation here\n",
    "   \n",
    "   # check length \n",
    "   if len(word1) != len(word2):\n",
    "      return False\n",
    "   \n",
    "   #  dictionaries to count characters\n",
    "   char_count1 = {}\n",
    "   char_count2 = {}\n",
    "\n",
    "   # count word1\n",
    "   for char in word1:\n",
    "      char_count1[char] = char_count1.get(char, 0) + 1\n",
    "\n",
    "   # Count word2\n",
    "   for char in word2:\n",
    "      char_count2[char] = char_count2.get(char, 0) + 1\n",
    "\n",
    "   # compare the two dictionaries\n",
    "   return char_count1 == char_count2\n"
   ]
  },
  {
   "cell_type": "code",
   "execution_count": 2,
   "metadata": {},
   "outputs": [],
   "source": [
    "# Test your function with an `assert` statements\n",
    "assert anagram('python', 'typhon') == True\n",
    "assert anagram('night', 'thing') == True\n",
    "assert anagram('dog', 'cat') == False\n",
    "assert anagram('sweep the floor', 'too few helpers') == True\n",
    "assert anagram('coins kept', 'in pockets') == True"
   ]
  },
  {
   "cell_type": "code",
   "execution_count": null,
   "metadata": {},
   "outputs": [],
   "source": []
  }
 ],
 "metadata": {
  "kernelspec": {
   "display_name": "Python 3",
   "language": "python",
   "name": "python3"
  },
  "language_info": {
   "codemirror_mode": {
    "name": "ipython",
    "version": 3
   },
   "file_extension": ".py",
   "mimetype": "text/x-python",
   "name": "python",
   "nbconvert_exporter": "python",
   "pygments_lexer": "ipython3",
   "version": "3.12.1"
  },
  "orig_nbformat": 2
 },
 "nbformat": 4,
 "nbformat_minor": 2
}
