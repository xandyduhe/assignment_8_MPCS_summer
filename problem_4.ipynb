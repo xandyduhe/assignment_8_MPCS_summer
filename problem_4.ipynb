{
 "cells": [
  {
   "cell_type": "markdown",
   "metadata": {},
   "source": [
    "# Problem 4\n",
    "----\n",
    "Give the Big-O performance of the following homework problems:\n",
    "- Assignment 2, Problem 5 (Divisibile by 11)\n",
    "- Assignment 3, Problem 3 (encrypt and decrypt)\n",
    "- Assignment 3, Problem 5 (crack the code)\n",
    "- Assignment 4, Problem 5 (greatest common divisor)\n",
    "\n",
    "Support your answers with a succinct written statement.  In addition, please provide the URL to each assignment in you written statement.  For example:\n",
    "```\n",
    "- Assignment 0, problem 0:\n",
    "  - O(N) The algorithm has to observe each member of the list to see if it is true.\n",
    "  - https://github.com/uchicago-codes/MPCS50101-2017-Winter-Sample/blob/master/problem1.py\n",
    "```"
   ]
  },
  {
   "cell_type": "markdown",
   "metadata": {},
   "source": [
    "- Assignment 2, Problem 5 (Divisibile by 11)\n",
    "    - https://github.com/xandyduhe/Hw8_probelms/blob/main/a_2_problem_5.py\n",
    "    - O(n), where n is the number of digits in the input. The function converts input into string and iterates through each digit. Converting to a string and iterating throiugh each digit are linear.\n",
    "\n",
    "\n",
    "\n",
    "- Assignment 3, Problem 3 (encrypt and decrypt)\n",
    "    -https://github.com/xandyduhe/Hw8_probelms/blob/main/a_3_problem_3.py\n",
    "    - O(n), where n is the length of the message \n",
    "    - Both functions iterate trhough each charcter in the message only one time, which is constant \n",
    "\n",
    "\n",
    "- Assignment 3, Problem 5 (crack the code)\n",
    "    - https://github.com/xandyduhe/Hw8_probelms/blob/main/a_3_problem_5.py\n",
    "    - O(n), where n in the length of the message \n",
    "    - The function tries all 26 letters for every n, so we have O(26*n) = O(n)\n",
    "\n",
    "\n",
    "- Assignment 4, Problem 5 (greatest common divisor)\n",
    "    - https://github.com/xandyduhe/Hw8_probelms/blob/main/a_4_problem_5.py\n",
    "    - Olog(n)\n",
    "    - Source: https://www.geeksforgeeks.org/time-complexity-of-euclidean-algorithm/#\n",
    "    - Each time b is reduced it is done so significantly \n",
    "    "
   ]
  }
 ],
 "metadata": {
  "language_info": {
   "codemirror_mode": {
    "name": "ipython",
    "version": 3
   },
   "file_extension": ".py",
   "mimetype": "text/x-python",
   "name": "python",
   "nbconvert_exporter": "python",
   "pygments_lexer": "ipython3",
   "version": 3
  },
  "orig_nbformat": 2
 },
 "nbformat": 4,
 "nbformat_minor": 2
}
