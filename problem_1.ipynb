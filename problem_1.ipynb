{
 "cells": [
  {
   "cell_type": "markdown",
   "metadata": {},
   "source": [
    "# Problem 1 - Big-O Notation of Code Snippets\n",
    "----\n",
    "Given the following code fragments, what is the Big-O running time? One of this is not as straight forward as it seems.\n",
    "\n",
    "A.\n",
    "```python\n",
    "test = 0\n",
    "for i in range(n):\n",
    "   for j in range(n):\n",
    "      test = test + i * j\n",
    "```\n",
    "\n",
    "B. \n",
    "```python\n",
    "test = 0\n",
    "for i in range(n):\n",
    "   test = test + 1\n",
    "\n",
    "for j in range(n):\n",
    "   test = test - 1\n",
    "```\n",
    "\n",
    "C. \n",
    "```python\n",
    "i = n\n",
    "while i > 0:\n",
    "   k = 2 + 2\n",
    "   i = i / 2\n",
    "```\n"
   ]
  },
  {
   "cell_type": "markdown",
   "metadata": {},
   "source": [
    "A. n*n = O(n^2)\n",
    "\n",
    "B. n+n = 2n = O(n)\n",
    "\n",
    "C. log(sub 2 )(n) = O(log n)\n",
    "\n",
    "Integer division, if i = 1 then i/2 = 0, which is not greater than 0. \n",
    "\n",
    "k           i in terms of k\n",
    "0. i = n    i = n/2^0\n",
    "1. i = n/2  i = n/2^1\n",
    "2. i = n/4  i = n/2^2\n",
    "3. i = n/8  1 = n/2^3\n",
    "\n",
    "i = n/2^k where k is the interation. the iterations end when i less than or equal to 1 bc of integer division. \n",
    "i leq 1   ----------> since i = n/2^k, then \n",
    "n/2^k leq 1\n",
    "\n",
    "n/2^k leq 1\n",
    "n leq 2^k ----------> isolate k, take log(sub 2) of both sides \n",
    "log(sub 2)(n) leq k \n",
    "\n",
    "\n",
    "\n"
   ]
  }
 ],
 "metadata": {
  "kernelspec": {
   "display_name": "Python 3.7.5 64-bit ('anaconda3': virtualenv)",
   "name": "python37564bitanaconda3virtualenv9f4dfbb167384045848833e25d52f015"
  },
  "language_info": {
   "codemirror_mode": {
    "name": "ipython",
    "version": 3
   },
   "file_extension": ".py",
   "mimetype": "text/x-python",
   "name": "python",
   "nbconvert_exporter": "python",
   "pygments_lexer": "ipython3",
   "version": "3.7.5-final"
  },
  "orig_nbformat": 2
 },
 "nbformat": 4,
 "nbformat_minor": 2
}
