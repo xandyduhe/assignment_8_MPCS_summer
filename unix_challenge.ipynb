{
 "cells": [
  {
   "cell_type": "markdown",
   "metadata": {},
   "source": [
    "#  Unix Challenge\n",
    "----\n",
    "\n",
    "When long running programs are executing from the terminal they can prevent access to the terminal.  While you can just open another terminal, there is a useful command that can push the program to run in the background and free up the terminal.  \n",
    "\n",
    "A good example of one of these programs is Jupyter Notebooks.  While the notebook is running, you won't be able to access the terminal, however, you may want to view, move, edit, etc. files in the directory to interact with the notebook.\n",
    "\n",
    "The following commands show how to do this:\n",
    "```\n",
    "# Launch a notebook\n",
    "% jupyter notebook myNotebookFile.ipynb\n",
    "\n",
    "# Suspend the notebook (pause it by hitting control-Z)\n",
    "\n",
    "# Put in the background\n",
    "bg\n",
    "```\n",
    "\n",
    "Now the notebook is running and you can access the directory.  To bring the notebook back to run in the foreground, follow the commands below:\n",
    "\n",
    "```\n",
    "# Brings a program in the background to the foreground (fg)\n",
    "fg\n",
    "```\n",
    "\n",
    "For the challenge, practice doing this while working with your notebook for problem 5.  There is a command that will show you a list of all the *processes* running from a terminal.  \n",
    "\n",
    "Find this command and, while your notebook is in the background, run this command and put the output in a file in the repository."
   ]
  },
  {
   "cell_type": "code",
   "execution_count": null,
   "metadata": {},
   "outputs": [],
   "source": []
  },
  {
   "cell_type": "markdown",
   "metadata": {},
   "source": [
    "Also, there is an additional character you can type to automatically put your command line program in the background. What is is? Show an example.\n"
   ]
  },
  {
   "cell_type": "code",
   "execution_count": null,
   "metadata": {},
   "outputs": [],
   "source": []
  }
 ],
 "metadata": {
  "language_info": {
   "codemirror_mode": {
    "name": "ipython",
    "version": 3
   },
   "file_extension": ".py",
   "mimetype": "text/x-python",
   "name": "python",
   "nbconvert_exporter": "python",
   "pygments_lexer": "ipython3",
   "version": 3
  },
  "orig_nbformat": 2
 },
 "nbformat": 4,
 "nbformat_minor": 2
}
